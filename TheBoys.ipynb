{
 "cells": [
  {
   "cell_type": "markdown",
   "id": "ab47c161",
   "metadata": {
    "papermill": {
     "duration": 0.022622,
     "end_time": "2022-12-17T06:12:28.844959",
     "exception": false,
     "start_time": "2022-12-17T06:12:28.822337",
     "status": "completed"
    },
    "tags": []
   },
   "source": [
    "# Importing important libraries"
   ]
  },
  {
   "cell_type": "code",
   "execution_count": 1,
   "id": "c3144017",
   "metadata": {
    "_cell_guid": "b1076dfc-b9ad-4769-8c92-a6c4dae69d19",
    "_uuid": "8f2839f25d086af736a60e9eeb907d3b93b6e0e5",
    "execution": {
     "iopub.execute_input": "2022-12-17T06:12:28.882098Z",
     "iopub.status.busy": "2022-12-17T06:12:28.881053Z",
     "iopub.status.idle": "2022-12-17T06:12:30.299959Z",
     "shell.execute_reply": "2022-12-17T06:12:30.298763Z"
    },
    "papermill": {
     "duration": 1.439864,
     "end_time": "2022-12-17T06:12:30.303100",
     "exception": false,
     "start_time": "2022-12-17T06:12:28.863236",
     "status": "completed"
    },
    "tags": []
   },
   "outputs": [],
   "source": [
    "import numpy as np # linear algebra\n",
    "import pandas as pd # data processing, CSV file I/O (e.g. pd.read_csv)\n",
    "from matplotlib import pyplot as plt\n",
    "%matplotlib inline\n",
    "import matplotlib\n",
    "from scipy import sparse\n",
    "from scipy.sparse import hstack\n",
    "from sklearn.ensemble import RandomForestClassifier "
   ]
  },
  {
   "cell_type": "markdown",
   "id": "dd86cb4a",
   "metadata": {
    "papermill": {
     "duration": 0.015421,
     "end_time": "2022-12-17T06:12:30.335094",
     "exception": false,
     "start_time": "2022-12-17T06:12:30.319673",
     "status": "completed"
    },
    "tags": []
   },
   "source": [
    "# Reading input files and preprocessing"
   ]
  },
  {
   "cell_type": "code",
   "execution_count": 2,
   "id": "79ed8646",
   "metadata": {
    "execution": {
     "iopub.execute_input": "2022-12-17T06:12:30.368481Z",
     "iopub.status.busy": "2022-12-17T06:12:30.367908Z",
     "iopub.status.idle": "2022-12-17T06:12:34.422147Z",
     "shell.execute_reply": "2022-12-17T06:12:34.418470Z"
    },
    "papermill": {
     "duration": 4.074383,
     "end_time": "2022-12-17T06:12:34.425081",
     "exception": false,
     "start_time": "2022-12-17T06:12:30.350698",
     "status": "completed"
    },
    "tags": []
   },
   "outputs": [
    {
     "data": {
      "text/html": [
       "<div>\n",
       "<style scoped>\n",
       "    .dataframe tbody tr th:only-of-type {\n",
       "        vertical-align: middle;\n",
       "    }\n",
       "\n",
       "    .dataframe tbody tr th {\n",
       "        vertical-align: top;\n",
       "    }\n",
       "\n",
       "    .dataframe thead th {\n",
       "        text-align: right;\n",
       "    }\n",
       "</style>\n",
       "<table border=\"1\" class=\"dataframe\">\n",
       "  <thead>\n",
       "    <tr style=\"text-align: right;\">\n",
       "      <th></th>\n",
       "      <th>qid</th>\n",
       "      <th>question_text</th>\n",
       "      <th>target</th>\n",
       "    </tr>\n",
       "  </thead>\n",
       "  <tbody>\n",
       "    <tr>\n",
       "      <th>0</th>\n",
       "      <td>dda0b0efc8ba86e81ec4</td>\n",
       "      <td>What are interesting facts about Microsoft his...</td>\n",
       "      <td>0</td>\n",
       "    </tr>\n",
       "    <tr>\n",
       "      <th>1</th>\n",
       "      <td>dc708b74a108d0fc0ad9</td>\n",
       "      <td>What are those things which are not gonna happ...</td>\n",
       "      <td>0</td>\n",
       "    </tr>\n",
       "    <tr>\n",
       "      <th>2</th>\n",
       "      <td>06a27ec5d82dacd8bfe0</td>\n",
       "      <td>What should I know to avoid being \"upsold\" whe...</td>\n",
       "      <td>0</td>\n",
       "    </tr>\n",
       "    <tr>\n",
       "      <th>3</th>\n",
       "      <td>00cbb6b17e3ceb7c5358</td>\n",
       "      <td>How I add any account with payment bank?</td>\n",
       "      <td>0</td>\n",
       "    </tr>\n",
       "    <tr>\n",
       "      <th>4</th>\n",
       "      <td>7c304888973a701585a0</td>\n",
       "      <td>Which Multi level marketing products are actua...</td>\n",
       "      <td>0</td>\n",
       "    </tr>\n",
       "  </tbody>\n",
       "</table>\n",
       "</div>"
      ],
      "text/plain": [
       "                    qid                                      question_text  \\\n",
       "0  dda0b0efc8ba86e81ec4  What are interesting facts about Microsoft his...   \n",
       "1  dc708b74a108d0fc0ad9  What are those things which are not gonna happ...   \n",
       "2  06a27ec5d82dacd8bfe0  What should I know to avoid being \"upsold\" whe...   \n",
       "3  00cbb6b17e3ceb7c5358           How I add any account with payment bank?   \n",
       "4  7c304888973a701585a0  Which Multi level marketing products are actua...   \n",
       "\n",
       "   target  \n",
       "0       0  \n",
       "1       0  \n",
       "2       0  \n",
       "3       0  \n",
       "4       0  "
      ]
     },
     "execution_count": 2,
     "metadata": {},
     "output_type": "execute_result"
    }
   ],
   "source": [
    "df1 =  pd.read_csv(\"train_df.csv\")\n",
    "df1.head()"
   ]
  },
  {
   "cell_type": "code",
   "execution_count": 3,
   "id": "a5b7f2c6",
   "metadata": {
    "execution": {
     "iopub.execute_input": "2022-12-17T06:12:34.459455Z",
     "iopub.status.busy": "2022-12-17T06:12:34.458971Z",
     "iopub.status.idle": "2022-12-17T06:12:34.467068Z",
     "shell.execute_reply": "2022-12-17T06:12:34.465742Z"
    },
    "papermill": {
     "duration": 0.028674,
     "end_time": "2022-12-17T06:12:34.469616",
     "exception": false,
     "start_time": "2022-12-17T06:12:34.440942",
     "status": "completed"
    },
    "tags": []
   },
   "outputs": [
    {
     "data": {
      "text/plain": [
       "(1000000, 3)"
      ]
     },
     "execution_count": 3,
     "metadata": {},
     "output_type": "execute_result"
    }
   ],
   "source": [
    "df1.shape"
   ]
  },
  {
   "cell_type": "code",
   "execution_count": 4,
   "id": "84d12aa2",
   "metadata": {
    "execution": {
     "iopub.execute_input": "2022-12-17T06:12:34.503109Z",
     "iopub.status.busy": "2022-12-17T06:12:34.502129Z",
     "iopub.status.idle": "2022-12-17T06:12:34.607648Z",
     "shell.execute_reply": "2022-12-17T06:12:34.606430Z"
    },
    "papermill": {
     "duration": 0.125648,
     "end_time": "2022-12-17T06:12:34.610747",
     "exception": false,
     "start_time": "2022-12-17T06:12:34.485099",
     "status": "completed"
    },
    "tags": []
   },
   "outputs": [
    {
     "data": {
      "text/plain": [
       "qid              0\n",
       "question_text    0\n",
       "target           0\n",
       "dtype: int64"
      ]
     },
     "execution_count": 4,
     "metadata": {},
     "output_type": "execute_result"
    }
   ],
   "source": [
    "df1.isnull().sum()"
   ]
  },
  {
   "cell_type": "code",
   "execution_count": 5,
   "id": "95e01425",
   "metadata": {
    "execution": {
     "iopub.execute_input": "2022-12-17T06:12:34.644525Z",
     "iopub.status.busy": "2022-12-17T06:12:34.644057Z",
     "iopub.status.idle": "2022-12-17T06:12:34.764182Z",
     "shell.execute_reply": "2022-12-17T06:12:34.762463Z"
    },
    "papermill": {
     "duration": 0.140257,
     "end_time": "2022-12-17T06:12:34.767000",
     "exception": false,
     "start_time": "2022-12-17T06:12:34.626743",
     "status": "completed"
    },
    "tags": []
   },
   "outputs": [
    {
     "name": "stdout",
     "output_type": "stream",
     "text": [
      "<class 'pandas.core.frame.DataFrame'>\n",
      "RangeIndex: 1000000 entries, 0 to 999999\n",
      "Data columns (total 3 columns):\n",
      " #   Column         Non-Null Count    Dtype \n",
      "---  ------         --------------    ----- \n",
      " 0   qid            1000000 non-null  object\n",
      " 1   question_text  1000000 non-null  object\n",
      " 2   target         1000000 non-null  int64 \n",
      "dtypes: int64(1), object(2)\n",
      "memory usage: 22.9+ MB\n"
     ]
    }
   ],
   "source": [
    "df1.info()"
   ]
  },
  {
   "cell_type": "code",
   "execution_count": 6,
   "id": "55db8bcf",
   "metadata": {
    "execution": {
     "iopub.execute_input": "2022-12-17T06:12:34.801977Z",
     "iopub.status.busy": "2022-12-17T06:12:34.800725Z",
     "iopub.status.idle": "2022-12-17T06:12:35.636855Z",
     "shell.execute_reply": "2022-12-17T06:12:35.635469Z"
    },
    "papermill": {
     "duration": 0.856903,
     "end_time": "2022-12-17T06:12:35.640200",
     "exception": false,
     "start_time": "2022-12-17T06:12:34.783297",
     "status": "completed"
    },
    "tags": []
   },
   "outputs": [
    {
     "data": {
      "text/plain": [
       "0"
      ]
     },
     "execution_count": 6,
     "metadata": {},
     "output_type": "execute_result"
    }
   ],
   "source": [
    "df1.duplicated().sum()"
   ]
  },
  {
   "cell_type": "code",
   "execution_count": 7,
   "id": "488cfcab",
   "metadata": {
    "execution": {
     "iopub.execute_input": "2022-12-17T06:12:35.677318Z",
     "iopub.status.busy": "2022-12-17T06:12:35.675861Z",
     "iopub.status.idle": "2022-12-17T06:12:36.865324Z",
     "shell.execute_reply": "2022-12-17T06:12:36.864409Z"
    },
    "papermill": {
     "duration": 1.209301,
     "end_time": "2022-12-17T06:12:36.867604",
     "exception": false,
     "start_time": "2022-12-17T06:12:35.658303",
     "status": "completed"
    },
    "tags": []
   },
   "outputs": [
    {
     "data": {
      "text/html": [
       "<div>\n",
       "<style scoped>\n",
       "    .dataframe tbody tr th:only-of-type {\n",
       "        vertical-align: middle;\n",
       "    }\n",
       "\n",
       "    .dataframe tbody tr th {\n",
       "        vertical-align: top;\n",
       "    }\n",
       "\n",
       "    .dataframe thead th {\n",
       "        text-align: right;\n",
       "    }\n",
       "</style>\n",
       "<table border=\"1\" class=\"dataframe\">\n",
       "  <thead>\n",
       "    <tr style=\"text-align: right;\">\n",
       "      <th></th>\n",
       "      <th>qid</th>\n",
       "      <th>question_text</th>\n",
       "    </tr>\n",
       "  </thead>\n",
       "  <tbody>\n",
       "    <tr>\n",
       "      <th>0</th>\n",
       "      <td>a4f3da3a3df9dd881edd</td>\n",
       "      <td>My period is due on my wedding day. How can I ...</td>\n",
       "    </tr>\n",
       "    <tr>\n",
       "      <th>1</th>\n",
       "      <td>9914c62ed3f69684d549</td>\n",
       "      <td>How many numbers higher than a million can be ...</td>\n",
       "    </tr>\n",
       "    <tr>\n",
       "      <th>2</th>\n",
       "      <td>8138ae48649e37091a91</td>\n",
       "      <td>How come I feel nothing for my family, but sti...</td>\n",
       "    </tr>\n",
       "    <tr>\n",
       "      <th>3</th>\n",
       "      <td>981b4753d17ef14d09f7</td>\n",
       "      <td>In case of collapse of the Democratic party, w...</td>\n",
       "    </tr>\n",
       "    <tr>\n",
       "      <th>4</th>\n",
       "      <td>452e2c705276ba16b7b7</td>\n",
       "      <td>Who is Émile Naoumoff?</td>\n",
       "    </tr>\n",
       "  </tbody>\n",
       "</table>\n",
       "</div>"
      ],
      "text/plain": [
       "                    qid                                      question_text\n",
       "0  a4f3da3a3df9dd881edd  My period is due on my wedding day. How can I ...\n",
       "1  9914c62ed3f69684d549  How many numbers higher than a million can be ...\n",
       "2  8138ae48649e37091a91  How come I feel nothing for my family, but sti...\n",
       "3  981b4753d17ef14d09f7  In case of collapse of the Democratic party, w...\n",
       "4  452e2c705276ba16b7b7                             Who is Émile Naoumoff?"
      ]
     },
     "execution_count": 7,
     "metadata": {},
     "output_type": "execute_result"
    }
   ],
   "source": [
    "df2 =  pd.read_csv(\"test_df.csv\")\n",
    "df2.head()"
   ]
  },
  {
   "cell_type": "code",
   "execution_count": 8,
   "id": "57a358de",
   "metadata": {
    "execution": {
     "iopub.execute_input": "2022-12-17T06:12:36.902602Z",
     "iopub.status.busy": "2022-12-17T06:12:36.902073Z",
     "iopub.status.idle": "2022-12-17T06:12:36.913238Z",
     "shell.execute_reply": "2022-12-17T06:12:36.911894Z"
    },
    "papermill": {
     "duration": 0.03174,
     "end_time": "2022-12-17T06:12:36.915831",
     "exception": false,
     "start_time": "2022-12-17T06:12:36.884091",
     "status": "completed"
    },
    "tags": []
   },
   "outputs": [
    {
     "data": {
      "text/plain": [
       "(306122, 2)"
      ]
     },
     "execution_count": 8,
     "metadata": {},
     "output_type": "execute_result"
    }
   ],
   "source": [
    "df2.shape"
   ]
  },
  {
   "cell_type": "markdown",
   "id": "f053adc7",
   "metadata": {
    "papermill": {
     "duration": 0.015703,
     "end_time": "2022-12-17T06:12:36.948035",
     "exception": false,
     "start_time": "2022-12-17T06:12:36.932332",
     "status": "completed"
    },
    "tags": []
   },
   "source": [
    "# Extracting statistical data from the input files"
   ]
  },
  {
   "cell_type": "code",
   "execution_count": 9,
   "id": "8d1aeee1",
   "metadata": {
    "execution": {
     "iopub.execute_input": "2022-12-17T06:12:36.982455Z",
     "iopub.status.busy": "2022-12-17T06:12:36.981963Z",
     "iopub.status.idle": "2022-12-17T06:12:36.986929Z",
     "shell.execute_reply": "2022-12-17T06:12:36.985591Z"
    },
    "papermill": {
     "duration": 0.025051,
     "end_time": "2022-12-17T06:12:36.989201",
     "exception": false,
     "start_time": "2022-12-17T06:12:36.964150",
     "status": "completed"
    },
    "tags": []
   },
   "outputs": [],
   "source": [
    "# import seaborn as sns"
   ]
  },
  {
   "cell_type": "code",
   "execution_count": 10,
   "id": "dd29ce96",
   "metadata": {
    "execution": {
     "iopub.execute_input": "2022-12-17T06:12:37.024142Z",
     "iopub.status.busy": "2022-12-17T06:12:37.023105Z",
     "iopub.status.idle": "2022-12-17T06:12:37.041758Z",
     "shell.execute_reply": "2022-12-17T06:12:37.040458Z"
    },
    "papermill": {
     "duration": 0.038866,
     "end_time": "2022-12-17T06:12:37.044351",
     "exception": false,
     "start_time": "2022-12-17T06:12:37.005485",
     "status": "completed"
    },
    "tags": []
   },
   "outputs": [
    {
     "data": {
      "text/plain": [
       "0    938130\n",
       "1     61870\n",
       "Name: target, dtype: int64"
      ]
     },
     "execution_count": 10,
     "metadata": {},
     "output_type": "execute_result"
    }
   ],
   "source": [
    "df1['target'].value_counts()"
   ]
  },
  {
   "cell_type": "code",
   "execution_count": 11,
   "id": "a5a73f5e",
   "metadata": {
    "execution": {
     "iopub.execute_input": "2022-12-17T06:12:37.078854Z",
     "iopub.status.busy": "2022-12-17T06:12:37.078344Z",
     "iopub.status.idle": "2022-12-17T06:12:37.479480Z",
     "shell.execute_reply": "2022-12-17T06:12:37.477872Z"
    },
    "papermill": {
     "duration": 0.421558,
     "end_time": "2022-12-17T06:12:37.482250",
     "exception": false,
     "start_time": "2022-12-17T06:12:37.060692",
     "status": "completed"
    },
    "tags": []
   },
   "outputs": [],
   "source": [
    "df1['char_count'] = df1['question_text'].apply(len)\n",
    "df2['char_count'] = df2['question_text'].apply(len)"
   ]
  },
  {
   "cell_type": "code",
   "execution_count": 12,
   "id": "6f78caf4",
   "metadata": {
    "execution": {
     "iopub.execute_input": "2022-12-17T06:12:37.516863Z",
     "iopub.status.busy": "2022-12-17T06:12:37.516385Z",
     "iopub.status.idle": "2022-12-17T06:12:37.522014Z",
     "shell.execute_reply": "2022-12-17T06:12:37.520779Z"
    },
    "papermill": {
     "duration": 0.025571,
     "end_time": "2022-12-17T06:12:37.524342",
     "exception": false,
     "start_time": "2022-12-17T06:12:37.498771",
     "status": "completed"
    },
    "tags": []
   },
   "outputs": [],
   "source": [
    "# df1['word_count'] = df1['question_text'].apply(lambda x:len(nltk.word_tokenize(x)))"
   ]
  },
  {
   "cell_type": "code",
   "execution_count": 13,
   "id": "c02d72b0",
   "metadata": {
    "execution": {
     "iopub.execute_input": "2022-12-17T06:12:37.558721Z",
     "iopub.status.busy": "2022-12-17T06:12:37.558239Z",
     "iopub.status.idle": "2022-12-17T06:12:37.563899Z",
     "shell.execute_reply": "2022-12-17T06:12:37.562806Z"
    },
    "papermill": {
     "duration": 0.025708,
     "end_time": "2022-12-17T06:12:37.566304",
     "exception": false,
     "start_time": "2022-12-17T06:12:37.540596",
     "status": "completed"
    },
    "tags": []
   },
   "outputs": [],
   "source": [
    "# df1['sentence_count'] = df1['question_text'].apply(lambda x:len(nltk.sent_tokenize(x)))"
   ]
  },
  {
   "cell_type": "code",
   "execution_count": 14,
   "id": "1a327279",
   "metadata": {
    "execution": {
     "iopub.execute_input": "2022-12-17T06:12:37.602155Z",
     "iopub.status.busy": "2022-12-17T06:12:37.601657Z",
     "iopub.status.idle": "2022-12-17T06:12:37.606572Z",
     "shell.execute_reply": "2022-12-17T06:12:37.605639Z"
    },
    "papermill": {
     "duration": 0.02597,
     "end_time": "2022-12-17T06:12:37.608731",
     "exception": false,
     "start_time": "2022-12-17T06:12:37.582761",
     "status": "completed"
    },
    "tags": []
   },
   "outputs": [],
   "source": [
    "# df1[['char_count', 'word_count', 'sentence_count']].describe()"
   ]
  },
  {
   "cell_type": "code",
   "execution_count": 15,
   "id": "072b2db5",
   "metadata": {
    "execution": {
     "iopub.execute_input": "2022-12-17T06:12:37.644080Z",
     "iopub.status.busy": "2022-12-17T06:12:37.642622Z",
     "iopub.status.idle": "2022-12-17T06:12:37.647831Z",
     "shell.execute_reply": "2022-12-17T06:12:37.646954Z"
    },
    "papermill": {
     "duration": 0.025204,
     "end_time": "2022-12-17T06:12:37.650072",
     "exception": false,
     "start_time": "2022-12-17T06:12:37.624868",
     "status": "completed"
    },
    "tags": []
   },
   "outputs": [],
   "source": [
    "# df1[df1['target']==0][['char_count', 'word_count', 'sentence_count']].describe()"
   ]
  },
  {
   "cell_type": "code",
   "execution_count": 16,
   "id": "e8ff2354",
   "metadata": {
    "execution": {
     "iopub.execute_input": "2022-12-17T06:12:37.685474Z",
     "iopub.status.busy": "2022-12-17T06:12:37.684097Z",
     "iopub.status.idle": "2022-12-17T06:12:37.689447Z",
     "shell.execute_reply": "2022-12-17T06:12:37.688472Z"
    },
    "papermill": {
     "duration": 0.02544,
     "end_time": "2022-12-17T06:12:37.691705",
     "exception": false,
     "start_time": "2022-12-17T06:12:37.666265",
     "status": "completed"
    },
    "tags": []
   },
   "outputs": [],
   "source": [
    "# df1[df1['target']==1][['char_count', 'word_count', 'sentence_count']].describe()"
   ]
  },
  {
   "cell_type": "code",
   "execution_count": 17,
   "id": "33df055a",
   "metadata": {
    "execution": {
     "iopub.execute_input": "2022-12-17T06:12:37.727213Z",
     "iopub.status.busy": "2022-12-17T06:12:37.726363Z",
     "iopub.status.idle": "2022-12-17T06:12:37.731883Z",
     "shell.execute_reply": "2022-12-17T06:12:37.731023Z"
    },
    "papermill": {
     "duration": 0.025756,
     "end_time": "2022-12-17T06:12:37.734172",
     "exception": false,
     "start_time": "2022-12-17T06:12:37.708416",
     "status": "completed"
    },
    "tags": []
   },
   "outputs": [],
   "source": [
    "# plt.figure(figsize=(12, 4))\n",
    "# sns.histplot(df1[df1['target']==0]['char_count'], color = 'green')\n",
    "# sns.histplot(df1[df1['target']==1]['char_count'], color = 'red')"
   ]
  },
  {
   "cell_type": "markdown",
   "id": "6687323a",
   "metadata": {
    "papermill": {
     "duration": 0.016064,
     "end_time": "2022-12-17T06:12:37.767171",
     "exception": false,
     "start_time": "2022-12-17T06:12:37.751107",
     "status": "completed"
    },
    "tags": []
   },
   "source": [
    "# Importing the Natural Language ToolKit for Exploratory Data Analysis(EDA)"
   ]
  },
  {
   "cell_type": "code",
   "execution_count": 18,
   "id": "555918a3",
   "metadata": {
    "execution": {
     "iopub.execute_input": "2022-12-17T06:12:37.802697Z",
     "iopub.status.busy": "2022-12-17T06:12:37.801700Z",
     "iopub.status.idle": "2022-12-17T06:12:38.346662Z",
     "shell.execute_reply": "2022-12-17T06:12:38.345323Z"
    },
    "papermill": {
     "duration": 0.566325,
     "end_time": "2022-12-17T06:12:38.349791",
     "exception": false,
     "start_time": "2022-12-17T06:12:37.783466",
     "status": "completed"
    },
    "tags": []
   },
   "outputs": [],
   "source": [
    "\n",
    "import nltk\n",
    "import nltk.corpus\n",
    "from nltk.tokenize import word_tokenize,sent_tokenize"
   ]
  },
  {
   "cell_type": "markdown",
   "id": "56839d35",
   "metadata": {
    "papermill": {
     "duration": 0.016883,
     "end_time": "2022-12-17T06:12:38.383252",
     "exception": false,
     "start_time": "2022-12-17T06:12:38.366369",
     "status": "completed"
    },
    "tags": []
   },
   "source": [
    "Converting all characters to lower case"
   ]
  },
  {
   "cell_type": "code",
   "execution_count": 19,
   "id": "d8939c26",
   "metadata": {
    "execution": {
     "iopub.execute_input": "2022-12-17T06:12:38.418994Z",
     "iopub.status.busy": "2022-12-17T06:12:38.418475Z",
     "iopub.status.idle": "2022-12-17T06:12:38.424281Z",
     "shell.execute_reply": "2022-12-17T06:12:38.423035Z"
    },
    "papermill": {
     "duration": 0.02695,
     "end_time": "2022-12-17T06:12:38.426686",
     "exception": false,
     "start_time": "2022-12-17T06:12:38.399736",
     "status": "completed"
    },
    "tags": []
   },
   "outputs": [],
   "source": [
    "def lower_case(question_text):\n",
    "    question_text = question_text.lower()\n",
    "    return question_text"
   ]
  },
  {
   "cell_type": "code",
   "execution_count": 20,
   "id": "fc854a25",
   "metadata": {
    "execution": {
     "iopub.execute_input": "2022-12-17T06:12:38.462087Z",
     "iopub.status.busy": "2022-12-17T06:12:38.461547Z",
     "iopub.status.idle": "2022-12-17T06:12:38.468837Z",
     "shell.execute_reply": "2022-12-17T06:12:38.467907Z"
    },
    "papermill": {
     "duration": 0.027778,
     "end_time": "2022-12-17T06:12:38.471233",
     "exception": false,
     "start_time": "2022-12-17T06:12:38.443455",
     "status": "completed"
    },
    "tags": []
   },
   "outputs": [
    {
     "data": {
      "text/plain": [
       "'hi how r you'"
      ]
     },
     "execution_count": 20,
     "metadata": {},
     "output_type": "execute_result"
    }
   ],
   "source": [
    "lower_case(\"Hi how r you\")"
   ]
  },
  {
   "cell_type": "markdown",
   "id": "1a9ced5d",
   "metadata": {
    "papermill": {
     "duration": 0.016177,
     "end_time": "2022-12-17T06:12:38.504693",
     "exception": false,
     "start_time": "2022-12-17T06:12:38.488516",
     "status": "completed"
    },
    "tags": []
   },
   "source": [
    "Tokenizing the sentences into words"
   ]
  },
  {
   "cell_type": "code",
   "execution_count": 21,
   "id": "af82b224",
   "metadata": {
    "execution": {
     "iopub.execute_input": "2022-12-17T06:12:38.541315Z",
     "iopub.status.busy": "2022-12-17T06:12:38.540447Z",
     "iopub.status.idle": "2022-12-17T06:12:38.545635Z",
     "shell.execute_reply": "2022-12-17T06:12:38.544565Z"
    },
    "papermill": {
     "duration": 0.026782,
     "end_time": "2022-12-17T06:12:38.547925",
     "exception": false,
     "start_time": "2022-12-17T06:12:38.521143",
     "status": "completed"
    },
    "tags": []
   },
   "outputs": [],
   "source": [
    "def tokenize_word(question_text):\n",
    "    question_text = nltk.word_tokenize(question_text)\n",
    "    return question_text"
   ]
  },
  {
   "cell_type": "code",
   "execution_count": 22,
   "id": "b9ec4636",
   "metadata": {
    "execution": {
     "iopub.execute_input": "2022-12-17T06:12:38.586654Z",
     "iopub.status.busy": "2022-12-17T06:12:38.586130Z",
     "iopub.status.idle": "2022-12-17T06:12:38.611188Z",
     "shell.execute_reply": "2022-12-17T06:12:38.609788Z"
    },
    "papermill": {
     "duration": 0.046939,
     "end_time": "2022-12-17T06:12:38.614140",
     "exception": false,
     "start_time": "2022-12-17T06:12:38.567201",
     "status": "completed"
    },
    "tags": []
   },
   "outputs": [
    {
     "data": {
      "text/plain": [
       "['hi', 'how', 'are', 'you', '?']"
      ]
     },
     "execution_count": 22,
     "metadata": {},
     "output_type": "execute_result"
    }
   ],
   "source": [
    "tokenize_word(lower_case(\"Hi how are you?\"))"
   ]
  },
  {
   "cell_type": "markdown",
   "id": "d1aaa889",
   "metadata": {
    "papermill": {
     "duration": 0.017172,
     "end_time": "2022-12-17T06:12:38.648247",
     "exception": false,
     "start_time": "2022-12-17T06:12:38.631075",
     "status": "completed"
    },
    "tags": []
   },
   "source": [
    "Removing non-alphanumeric and stopwords from the sentences"
   ]
  },
  {
   "cell_type": "code",
   "execution_count": 23,
   "id": "50b7b1da",
   "metadata": {
    "execution": {
     "iopub.execute_input": "2022-12-17T06:12:38.683420Z",
     "iopub.status.busy": "2022-12-17T06:12:38.682871Z",
     "iopub.status.idle": "2022-12-17T06:12:38.723256Z",
     "shell.execute_reply": "2022-12-17T06:12:38.721853Z"
    },
    "papermill": {
     "duration": 0.061792,
     "end_time": "2022-12-17T06:12:38.726592",
     "exception": false,
     "start_time": "2022-12-17T06:12:38.664800",
     "status": "completed"
    },
    "tags": []
   },
   "outputs": [],
   "source": [
    "from nltk.corpus import stopwords\n",
    "sw = stopwords.words('english')"
   ]
  },
  {
   "cell_type": "code",
   "execution_count": 24,
   "id": "4d0de2d6",
   "metadata": {
    "execution": {
     "iopub.execute_input": "2022-12-17T06:12:38.762633Z",
     "iopub.status.busy": "2022-12-17T06:12:38.761197Z",
     "iopub.status.idle": "2022-12-17T06:12:38.768152Z",
     "shell.execute_reply": "2022-12-17T06:12:38.767230Z"
    },
    "papermill": {
     "duration": 0.027978,
     "end_time": "2022-12-17T06:12:38.771168",
     "exception": false,
     "start_time": "2022-12-17T06:12:38.743190",
     "status": "completed"
    },
    "tags": []
   },
   "outputs": [],
   "source": [
    "def special_char(question_text):\n",
    "    arr = []\n",
    "    #Not removing Alphanumeric characters as people tend to make typos and this suggests it is not spam\n",
    "    for i in question_text:\n",
    "        if(i not in sw):\n",
    "            arr.append(i)\n",
    "    return arr"
   ]
  },
  {
   "cell_type": "code",
   "execution_count": 25,
   "id": "0910aa4e",
   "metadata": {
    "execution": {
     "iopub.execute_input": "2022-12-17T06:12:38.807624Z",
     "iopub.status.busy": "2022-12-17T06:12:38.806216Z",
     "iopub.status.idle": "2022-12-17T06:12:38.812081Z",
     "shell.execute_reply": "2022-12-17T06:12:38.811126Z"
    },
    "papermill": {
     "duration": 0.026698,
     "end_time": "2022-12-17T06:12:38.814615",
     "exception": false,
     "start_time": "2022-12-17T06:12:38.787917",
     "status": "completed"
    },
    "tags": []
   },
   "outputs": [],
   "source": [
    "# special_char('how123!\"#$%&\\'()*+,-./:;<=>?@[\\\\]^_`{|}~')"
   ]
  },
  {
   "cell_type": "markdown",
   "id": "06b4516a",
   "metadata": {
    "papermill": {
     "duration": 0.016336,
     "end_time": "2022-12-17T06:12:38.848120",
     "exception": false,
     "start_time": "2022-12-17T06:12:38.831784",
     "status": "completed"
    },
    "tags": []
   },
   "source": [
    "Lemmitization (Reducing to basic form)"
   ]
  },
  {
   "cell_type": "code",
   "execution_count": 26,
   "id": "0c18c864",
   "metadata": {
    "execution": {
     "iopub.execute_input": "2022-12-17T06:12:38.884695Z",
     "iopub.status.busy": "2022-12-17T06:12:38.883732Z",
     "iopub.status.idle": "2022-12-17T06:12:39.273655Z",
     "shell.execute_reply": "2022-12-17T06:12:39.272167Z"
    },
    "papermill": {
     "duration": 0.412523,
     "end_time": "2022-12-17T06:12:39.277186",
     "exception": false,
     "start_time": "2022-12-17T06:12:38.864663",
     "status": "completed"
    },
    "tags": []
   },
   "outputs": [
    {
     "name": "stderr",
     "output_type": "stream",
     "text": [
      "[nltk_data] Downloading package omw-1.4 to /home/teja/nltk_data...\n",
      "[nltk_data]   Package omw-1.4 is already up-to-date!\n"
     ]
    }
   ],
   "source": [
    "nltk.download('omw-1.4')\n",
    "from nltk.stem import WordNetLemmatizer\n",
    "lemmatizer = WordNetLemmatizer()\n",
    "def lemma(text):\n",
    "    lemm_text = [lemmatizer.lemmatize(word) for word in text]\n",
    "    return lemm_text"
   ]
  },
  {
   "cell_type": "markdown",
   "id": "988ebd28",
   "metadata": {
    "papermill": {
     "duration": 0.01716,
     "end_time": "2022-12-17T06:12:39.311100",
     "exception": false,
     "start_time": "2022-12-17T06:12:39.293940",
     "status": "completed"
    },
    "tags": []
   },
   "source": [
    "Merging train and test data"
   ]
  },
  {
   "cell_type": "code",
   "execution_count": 27,
   "id": "0a219261",
   "metadata": {
    "execution": {
     "iopub.execute_input": "2022-12-17T06:12:39.346214Z",
     "iopub.status.busy": "2022-12-17T06:12:39.345709Z",
     "iopub.status.idle": "2022-12-17T06:12:39.411516Z",
     "shell.execute_reply": "2022-12-17T06:12:39.410231Z"
    },
    "papermill": {
     "duration": 0.086635,
     "end_time": "2022-12-17T06:12:39.414397",
     "exception": false,
     "start_time": "2022-12-17T06:12:39.327762",
     "status": "completed"
    },
    "tags": []
   },
   "outputs": [],
   "source": [
    "df = df1.drop(columns=['target','char_count'])\n",
    "df2 = df2.drop(columns=['char_count'])\n",
    "# df = pd.concat([df,df2],ignore_index=True)"
   ]
  },
  {
   "cell_type": "markdown",
   "id": "a66a269c",
   "metadata": {
    "papermill": {
     "duration": 0.016511,
     "end_time": "2022-12-17T06:12:39.447916",
     "exception": false,
     "start_time": "2022-12-17T06:12:39.431405",
     "status": "completed"
    },
    "tags": []
   },
   "source": [
    "**Calling all functions**"
   ]
  },
  {
   "cell_type": "code",
   "execution_count": 28,
   "id": "8e553525",
   "metadata": {
    "execution": {
     "iopub.execute_input": "2022-12-17T06:12:39.485729Z",
     "iopub.status.busy": "2022-12-17T06:12:39.484871Z",
     "iopub.status.idle": "2022-12-17T06:12:39.489184Z",
     "shell.execute_reply": "2022-12-17T06:12:39.488332Z"
    },
    "papermill": {
     "duration": 0.025352,
     "end_time": "2022-12-17T06:12:39.491443",
     "exception": false,
     "start_time": "2022-12-17T06:12:39.466091",
     "status": "completed"
    },
    "tags": []
   },
   "outputs": [],
   "source": [
    "# arr = []\n",
    "# for text in df['question_text']:\n",
    "#     arr.append(text)"
   ]
  },
  {
   "cell_type": "code",
   "execution_count": 29,
   "id": "77f06efb",
   "metadata": {
    "execution": {
     "iopub.execute_input": "2022-12-17T06:12:39.527869Z",
     "iopub.status.busy": "2022-12-17T06:12:39.526991Z",
     "iopub.status.idle": "2022-12-17T06:12:39.531285Z",
     "shell.execute_reply": "2022-12-17T06:12:39.530369Z"
    },
    "papermill": {
     "duration": 0.025159,
     "end_time": "2022-12-17T06:12:39.533501",
     "exception": false,
     "start_time": "2022-12-17T06:12:39.508342",
     "status": "completed"
    },
    "tags": []
   },
   "outputs": [],
   "source": [
    "# token = []\n",
    "# for text in arr:\n",
    "#     token.append(tokenize_word(text))\n",
    "# token"
   ]
  },
  {
   "cell_type": "code",
   "execution_count": 30,
   "id": "0c0c8356",
   "metadata": {
    "execution": {
     "iopub.execute_input": "2022-12-17T06:12:39.570142Z",
     "iopub.status.busy": "2022-12-17T06:12:39.569674Z",
     "iopub.status.idle": "2022-12-17T06:12:39.575027Z",
     "shell.execute_reply": "2022-12-17T06:12:39.573518Z"
    },
    "papermill": {
     "duration": 0.026684,
     "end_time": "2022-12-17T06:12:39.577591",
     "exception": false,
     "start_time": "2022-12-17T06:12:39.550907",
     "status": "completed"
    },
    "tags": []
   },
   "outputs": [],
   "source": [
    "# special = token\n",
    "# for i in token:\n",
    "#     special.append(special_char(i))\n",
    "# special"
   ]
  },
  {
   "cell_type": "code",
   "execution_count": 31,
   "id": "b8d89383",
   "metadata": {
    "execution": {
     "iopub.execute_input": "2022-12-17T06:12:39.613378Z",
     "iopub.status.busy": "2022-12-17T06:12:39.612831Z",
     "iopub.status.idle": "2022-12-17T06:12:39.618170Z",
     "shell.execute_reply": "2022-12-17T06:12:39.616969Z"
    },
    "papermill": {
     "duration": 0.026212,
     "end_time": "2022-12-17T06:12:39.620603",
     "exception": false,
     "start_time": "2022-12-17T06:12:39.594391",
     "status": "completed"
    },
    "tags": []
   },
   "outputs": [],
   "source": [
    "# lem = []\n",
    "# for i in special:\n",
    "#     lem.append(lemma(i))\n",
    "# lem"
   ]
  },
  {
   "cell_type": "code",
   "execution_count": 32,
   "id": "48d3caf4",
   "metadata": {
    "execution": {
     "iopub.execute_input": "2022-12-17T06:12:39.657080Z",
     "iopub.status.busy": "2022-12-17T06:12:39.656259Z",
     "iopub.status.idle": "2022-12-17T06:12:39.660513Z",
     "shell.execute_reply": "2022-12-17T06:12:39.659530Z"
    },
    "papermill": {
     "duration": 0.025155,
     "end_time": "2022-12-17T06:12:39.662801",
     "exception": false,
     "start_time": "2022-12-17T06:12:39.637646",
     "status": "completed"
    },
    "scrolled": true,
    "tags": []
   },
   "outputs": [],
   "source": [
    "# final = arr\n",
    "# for arr in special:\n",
    "#     final.append(' '.join(arr))\n",
    "# len(final)"
   ]
  },
  {
   "cell_type": "code",
   "execution_count": 33,
   "id": "018ec057",
   "metadata": {
    "execution": {
     "iopub.execute_input": "2022-12-17T06:12:39.699693Z",
     "iopub.status.busy": "2022-12-17T06:12:39.698839Z",
     "iopub.status.idle": "2022-12-17T06:12:39.704324Z",
     "shell.execute_reply": "2022-12-17T06:12:39.703245Z"
    },
    "papermill": {
     "duration": 0.027048,
     "end_time": "2022-12-17T06:12:39.706933",
     "exception": false,
     "start_time": "2022-12-17T06:12:39.679885",
     "status": "completed"
    },
    "tags": []
   },
   "outputs": [],
   "source": [
    "# final[0]"
   ]
  },
  {
   "cell_type": "code",
   "execution_count": 34,
   "id": "e7f508d3",
   "metadata": {
    "execution": {
     "iopub.execute_input": "2022-12-17T06:12:39.744139Z",
     "iopub.status.busy": "2022-12-17T06:12:39.743652Z",
     "iopub.status.idle": "2022-12-17T06:12:39.749146Z",
     "shell.execute_reply": "2022-12-17T06:12:39.747788Z"
    },
    "papermill": {
     "duration": 0.0275,
     "end_time": "2022-12-17T06:12:39.751746",
     "exception": false,
     "start_time": "2022-12-17T06:12:39.724246",
     "status": "completed"
    },
    "tags": []
   },
   "outputs": [],
   "source": [
    "from sklearn.model_selection import train_test_split"
   ]
  },
  {
   "cell_type": "code",
   "execution_count": 35,
   "id": "f278159f",
   "metadata": {
    "execution": {
     "iopub.execute_input": "2022-12-17T06:12:39.789019Z",
     "iopub.status.busy": "2022-12-17T06:12:39.787710Z",
     "iopub.status.idle": "2022-12-17T06:12:40.094941Z",
     "shell.execute_reply": "2022-12-17T06:12:40.093341Z"
    },
    "papermill": {
     "duration": 0.329138,
     "end_time": "2022-12-17T06:12:40.098168",
     "exception": false,
     "start_time": "2022-12-17T06:12:39.769030",
     "status": "completed"
    },
    "tags": []
   },
   "outputs": [],
   "source": [
    "# X = pd.DataFrame(final[:1000000],columns=['data'])\n",
    "# X = pd.concat([X,df1['target']],axis=1)\n",
    "X = df1[['question_text','target']].copy()\n",
    "X_train, X_test = train_test_split(X, test_size=0.1,shuffle=True)\n",
    "Z = df2[['question_text']].copy()"
   ]
  },
  {
   "cell_type": "code",
   "execution_count": 36,
   "id": "6becf88a",
   "metadata": {
    "execution": {
     "iopub.execute_input": "2022-12-17T06:12:40.134239Z",
     "iopub.status.busy": "2022-12-17T06:12:40.133753Z",
     "iopub.status.idle": "2022-12-17T06:12:40.143885Z",
     "shell.execute_reply": "2022-12-17T06:12:40.142581Z"
    },
    "papermill": {
     "duration": 0.031046,
     "end_time": "2022-12-17T06:12:40.146207",
     "exception": false,
     "start_time": "2022-12-17T06:12:40.115161",
     "status": "completed"
    },
    "tags": []
   },
   "outputs": [
    {
     "data": {
      "text/plain": [
       "0         What are interesting facts about Microsoft his...\n",
       "1         What are those things which are not gonna happ...\n",
       "2         What should I know to avoid being \"upsold\" whe...\n",
       "3                  How I add any account with payment bank?\n",
       "4         Which Multi level marketing products are actua...\n",
       "                                ...                        \n",
       "999995                           How is CSE at VIT Chennai?\n",
       "999996    How can we prevent a holocaust by robots, AI, ...\n",
       "999997    How can I help a student remember key steps an...\n",
       "999998    What is the difference between lace closure & ...\n",
       "999999     What happens when you look into a broken mirror?\n",
       "Name: question_text, Length: 1000000, dtype: object"
      ]
     },
     "execution_count": 36,
     "metadata": {},
     "output_type": "execute_result"
    }
   ],
   "source": [
    "X['question_text']"
   ]
  },
  {
   "cell_type": "code",
   "execution_count": 37,
   "id": "90c2151b",
   "metadata": {
    "execution": {
     "iopub.execute_input": "2022-12-17T06:12:40.182161Z",
     "iopub.status.busy": "2022-12-17T06:12:40.181695Z",
     "iopub.status.idle": "2022-12-17T06:16:45.735040Z",
     "shell.execute_reply": "2022-12-17T06:16:45.733481Z"
    },
    "papermill": {
     "duration": 245.575164,
     "end_time": "2022-12-17T06:16:45.738346",
     "exception": false,
     "start_time": "2022-12-17T06:12:40.163182",
     "status": "completed"
    },
    "tags": []
   },
   "outputs": [],
   "source": [
    "from sklearn.feature_extraction.text import CountVectorizer,TfidfVectorizer\n",
    "# CountVec = CountVectorizer(lowercase=False,ngram_range=(1,2))\n",
    "\n",
    "word_vectorizer = TfidfVectorizer(strip_accents = 'unicode',analyzer = 'word',ngram_range = (1, 3),max_df = 0.5,max_features = 10000,)\n",
    "\n",
    "char_vectorizer = TfidfVectorizer(strip_accents = 'unicode',analyzer = 'char',ngram_range = (1, 3),max_df = 0.5,max_features = 10000,)\n",
    "\n",
    "X_train_countW = word_vectorizer.fit_transform(X_train['question_text'])\n",
    "X_test_countW = word_vectorizer.transform(X_test['question_text'])\n",
    "trainW = word_vectorizer.fit_transform(X['question_text'])\n",
    "testW = word_vectorizer.transform(Z['question_text'])\n"
   ]
  },
  {
   "cell_type": "code",
   "execution_count": 38,
   "id": "97fb497b",
   "metadata": {
    "execution": {
     "iopub.execute_input": "2022-12-17T06:16:45.776390Z",
     "iopub.status.busy": "2022-12-17T06:16:45.775852Z",
     "iopub.status.idle": "2022-12-17T06:21:32.606510Z",
     "shell.execute_reply": "2022-12-17T06:21:32.605178Z"
    },
    "papermill": {
     "duration": 286.852937,
     "end_time": "2022-12-17T06:21:32.609787",
     "exception": false,
     "start_time": "2022-12-17T06:16:45.756850",
     "status": "completed"
    },
    "tags": []
   },
   "outputs": [],
   "source": [
    "X_train_countC = char_vectorizer.fit_transform(X_train['question_text'])\n",
    "X_test_countC = char_vectorizer.transform(X_test['question_text'])\n",
    "trainC = char_vectorizer.fit_transform(X['question_text'])\n",
    "testC = char_vectorizer.transform(Z['question_text'])"
   ]
  },
  {
   "cell_type": "markdown",
   "id": "33f82261",
   "metadata": {
    "papermill": {
     "duration": 0.017061,
     "end_time": "2022-12-17T06:21:32.644530",
     "exception": false,
     "start_time": "2022-12-17T06:21:32.627469",
     "status": "completed"
    },
    "tags": []
   },
   "source": [
    "Horizontally stacking the vectors "
   ]
  },
  {
   "cell_type": "code",
   "execution_count": 39,
   "id": "b842428f",
   "metadata": {
    "execution": {
     "iopub.execute_input": "2022-12-17T06:21:32.682259Z",
     "iopub.status.busy": "2022-12-17T06:21:32.681400Z",
     "iopub.status.idle": "2022-12-17T06:21:32.744562Z",
     "shell.execute_reply": "2022-12-17T06:21:32.743096Z"
    },
    "papermill": {
     "duration": 0.085819,
     "end_time": "2022-12-17T06:21:32.747722",
     "exception": false,
     "start_time": "2022-12-17T06:21:32.661903",
     "status": "completed"
    },
    "tags": []
   },
   "outputs": [],
   "source": [
    "# countcsr_train = sparse.csr_matrix(X['char_count']).transpose()\n",
    "# countcsr_test = sparse.csr_matrix(Z['char_count']).transpose()"
   ]
  },
  {
   "cell_type": "code",
   "execution_count": 40,
   "id": "7510bfa1",
   "metadata": {
    "execution": {
     "iopub.execute_input": "2022-12-17T06:21:32.784183Z",
     "iopub.status.busy": "2022-12-17T06:21:32.783613Z",
     "iopub.status.idle": "2022-12-17T06:21:57.959580Z",
     "shell.execute_reply": "2022-12-17T06:21:57.958248Z"
    },
    "papermill": {
     "duration": 25.197603,
     "end_time": "2022-12-17T06:21:57.962536",
     "exception": false,
     "start_time": "2022-12-17T06:21:32.764933",
     "status": "completed"
    },
    "tags": []
   },
   "outputs": [],
   "source": [
    "\n",
    "X_train_count = hstack((X_train_countW,X_train_countC)).tocsr()\n",
    "X_test_count = hstack((X_test_countW,X_test_countC)).tocsr()\n",
    "train = hstack((trainW,trainC)).tocsr()\n",
    "test = hstack((testW,testC)).tocsr()"
   ]
  },
  {
   "cell_type": "markdown",
   "id": "270208b9",
   "metadata": {
    "papermill": {
     "duration": 0.01681,
     "end_time": "2022-12-17T06:21:57.996840",
     "exception": false,
     "start_time": "2022-12-17T06:21:57.980030",
     "status": "completed"
    },
    "tags": []
   },
   "source": [
    "<font size=6>\n",
    "Models"
   ]
  },
  {
   "cell_type": "code",
   "execution_count": 41,
   "id": "ba894b8d",
   "metadata": {
    "execution": {
     "iopub.execute_input": "2022-12-17T06:21:58.035178Z",
     "iopub.status.busy": "2022-12-17T06:21:58.034266Z",
     "iopub.status.idle": "2022-12-17T06:21:58.042867Z",
     "shell.execute_reply": "2022-12-17T06:21:58.041687Z"
    },
    "papermill": {
     "duration": 0.031843,
     "end_time": "2022-12-17T06:21:58.045620",
     "exception": false,
     "start_time": "2022-12-17T06:21:58.013777",
     "status": "completed"
    },
    "tags": []
   },
   "outputs": [],
   "source": [
    "from sklearn.naive_bayes import GaussianNB, MultinomialNB, BernoulliNB\n",
    "from sklearn.linear_model import LogisticRegression\n",
    "from sklearn.metrics import f1_score,confusion_matrix,ConfusionMatrixDisplay,roc_auc_score, roc_curve, precision_recall_curve"
   ]
  },
  {
   "cell_type": "code",
   "execution_count": 42,
   "id": "78599149",
   "metadata": {},
   "outputs": [],
   "source": [
    "class LogisticRegressionWithThreshold(LogisticRegression):\n",
    "    def predict(self, X, threshold=None):\n",
    "        if threshold == None: # If no threshold passed in, simply call the base class predict, effectively threshold=0.5\n",
    "            return LogisticRegression.predict(self, X)\n",
    "        else:\n",
    "            y_scores = LogisticRegression.predict_proba(self, X)[:, 1]\n",
    "            y_pred_with_threshold = (y_scores >= threshold).astype(int)\n",
    "\n",
    "            return y_pred_with_threshold\n",
    "    \n",
    "    def threshold_from_optimal_tpr_minus_fpr(self, X, y):\n",
    "        y_scores = LogisticRegression.predict_proba(self, X)[:, 1]\n",
    "        fpr, tpr, thresholds = roc_curve(y, y_scores) \n",
    "\n",
    "        optimal_idx = np.argmax(tpr - fpr)\n",
    "\n",
    "        return thresholds[optimal_idx], tpr[optimal_idx] - fpr[optimal_idx]\n",
    "    \n",
    "    def threshold_from_desired_precision(self, X, y, desired_precision=0.9):\n",
    "        y_scores = LogisticRegression.predict_proba(self, X)[:, 1]\n",
    "        precisions, recalls, thresholds = precision_recall_curve(y, y_scores)\n",
    "\n",
    "        desired_precision_idx = np.argmax(precisions >= desired_precision)\n",
    "        \n",
    "        return thresholds[desired_precision_idx], recalls[desired_precision_idx]\n",
    "\n",
    "    def threshold_from_desired_recall(self, X, y, desired_recall=0.9):\n",
    "        y_scores = LogisticRegression.predict_proba(self, X)[:, 1]\n",
    "        precisions, recalls, thresholds = precision_recall_curve(y, y_scores)\n",
    "\n",
    "        desired_recall_idx = np.argmin(recalls >= desired_recall)\n",
    "        \n",
    "        return thresholds[desired_recall_idx], precisions[desired_recall_idx]\n",
    "    \n",
    "    def default_cost_function(tn, fp, fn, tp):\n",
    "        cost = 0\n",
    "        \n",
    "        cost += (tn * -10000) \n",
    "        cost += (fp * 1000) \n",
    "        cost += (fn * 1500) \n",
    "        cost += (tp * -20000) \n",
    "        \n",
    "        return cost\n",
    "\n",
    "    def threshold_from_cost_function(self, X, y, cost_function):\n",
    "        y_scores = LogisticRegression.predict_proba(self, X)[:, 1]\n",
    "        precisions, recalls, thresholds = precision_recall_curve(y, y_scores)\n",
    "\n",
    "        costs = []\n",
    "        tns = []\n",
    "        fps = []\n",
    "        fns = []\n",
    "        tps = []\n",
    "        \n",
    "        for threshold in thresholds:\n",
    "            y_pred_with_threshold = (y_scores >= threshold).astype(int)\n",
    "            tn, fp, fn, tp = confusion_matrix(y, y_pred_with_threshold).ravel()\n",
    "            costs.append(cost_function(tn, fp, fn, tp))\n",
    "            tns.append(tn), fps.append(fp), fns.append(fn), tps.append(tp)\n",
    "\n",
    "        df_cost = pd.DataFrame({'precision':precisions[:-1], 'recall':recalls[:-1], 'threshold':thresholds, 'cost':costs, 'tn':tns, 'fp':fps, 'fn':fns, 'tp':tps})\n",
    "        \n",
    "        min_cost = df_cost['cost'].min()\n",
    "        threshold = df_cost[df_cost['cost']==min_cost].iloc[0]['threshold']\n",
    "\n",
    "        return threshold, min_cost, df_cost\n",
    "        \n",
    "    def threshold_from_optimal_f_score(self, X, y):\n",
    "        y_scores = LogisticRegression.predict_proba(self, X)[:, 1]\n",
    "        precisions, recalls, thresholds = precision_recall_curve(y, y_scores)\n",
    "\n",
    "        fscores = (2 * precisions * recalls) / (precisions + recalls)\n",
    "        \n",
    "        optimal_idx = np.argmax(fscores)\n",
    "        \n",
    "        return thresholds[optimal_idx], fscores[optimal_idx]\n",
    "\n",
    "    def threshold_from_optimal_accuracy(self, X, y):\n",
    "            y_scores = LogisticRegression.predict_proba(self, X)[:, 1]\n",
    "            precisions, recalls, thresholds = precision_recall_curve(y, y_scores)\n",
    "\n",
    "            accuracies = []\n",
    "            tns = []\n",
    "            fps = []\n",
    "            fns = []\n",
    "            tps = []\n",
    "\n",
    "            for threshold in thresholds:\n",
    "                y_pred_with_threshold = (y_scores >= threshold).astype(int)\n",
    "                tn, fp, fn, tp = confusion_matrix(y, y_pred_with_threshold).ravel()\n",
    "\n",
    "                accuracies.append((tp+tn)/(tn+fp+fn+tp))\n",
    "                tns.append(tn), fps.append(fp), fns.append(fn), tps.append(tp)\n",
    "\n",
    "            df_accuracy = pd.DataFrame({'threshold':thresholds, 'accuracy':accuracies, 'tn':tns, 'fp':fps, 'fn':fns, 'tp':tps})\n",
    "\n",
    "            max_accuracy = df_accuracy['accuracy'].max()\n",
    "            threshold = df_accuracy[df_accuracy['accuracy']==max_accuracy].iloc[0]['threshold']\n",
    "\n",
    "            return threshold, max_accuracy, df_accuracy"
   ]
  },
  {
   "cell_type": "code",
   "execution_count": 43,
   "id": "04bb064e",
   "metadata": {
    "execution": {
     "iopub.execute_input": "2022-12-17T06:21:58.083943Z",
     "iopub.status.busy": "2022-12-17T06:21:58.082990Z",
     "iopub.status.idle": "2022-12-17T06:21:58.089340Z",
     "shell.execute_reply": "2022-12-17T06:21:58.088352Z"
    },
    "papermill": {
     "duration": 0.028233,
     "end_time": "2022-12-17T06:21:58.092021",
     "exception": false,
     "start_time": "2022-12-17T06:21:58.063788",
     "status": "completed"
    },
    "tags": []
   },
   "outputs": [],
   "source": [
    "mnb = MultinomialNB()\n",
    "lr = LogisticRegression(dual=False,class_weight={0: 0.23,1: 0.77})\n",
    "gnb = GaussianNB()"
   ]
  },
  {
   "cell_type": "markdown",
   "id": "e293060f",
   "metadata": {
    "papermill": {
     "duration": 0.016502,
     "end_time": "2022-12-17T06:21:58.125952",
     "exception": false,
     "start_time": "2022-12-17T06:21:58.109450",
     "status": "completed"
    },
    "tags": []
   },
   "source": [
    "<font size=6>\n",
    "Testing with split train data"
   ]
  },
  {
   "cell_type": "code",
   "execution_count": 44,
   "id": "10a0c2d5",
   "metadata": {
    "execution": {
     "iopub.execute_input": "2022-12-17T06:21:58.162768Z",
     "iopub.status.busy": "2022-12-17T06:21:58.161954Z",
     "iopub.status.idle": "2022-12-17T06:21:58.370258Z",
     "shell.execute_reply": "2022-12-17T06:21:58.368451Z"
    },
    "papermill": {
     "duration": 0.230032,
     "end_time": "2022-12-17T06:21:58.372822",
     "exception": true,
     "start_time": "2022-12-17T06:21:58.142790",
     "status": "failed"
    },
    "tags": []
   },
   "outputs": [],
   "source": [
    "mnb.fit(X_train_count,X_train['target'])\n",
    "split_res = mnb.predict(X_test_count)\n",
    "f1_score(X_test['target'],split_res)"
   ]
  },
  {
   "attachments": {},
   "cell_type": "markdown",
   "id": "ae685cd7",
   "metadata": {},
   "source": [
    "### Code for custom threshold (Takes too long)"
   ]
  },
  {
   "cell_type": "code",
   "execution_count": null,
   "id": "63d77744",
   "metadata": {
    "execution": {
     "iopub.execute_input": "2022-12-16T17:58:05.060042Z",
     "iopub.status.busy": "2022-12-16T17:58:05.059606Z",
     "iopub.status.idle": "2022-12-16T17:58:05.127402Z",
     "shell.execute_reply": "2022-12-16T17:58:05.125691Z",
     "shell.execute_reply.started": "2022-12-16T17:58:05.060009Z"
    },
    "papermill": {
     "duration": null,
     "end_time": null,
     "exception": null,
     "start_time": null,
     "status": "pending"
    },
    "tags": []
   },
   "outputs": [],
   "source": [
    "# lrt = LogisticRegressionWithThreshold\n",
    "# lrt.fit(X_train_count,X_train['target'])\n",
    "# threshold, max_accuracy, df_accuracy = lrt.threshold_from_optimal_accuracy(X_train_count, X_train['target'])\n",
    "# y_pred = lrt.predict(X_train_count, threshold)\n",
    "\n",
    "# threshold, max_accuracy"
   ]
  },
  {
   "attachments": {},
   "cell_type": "markdown",
   "id": "cf77433f",
   "metadata": {},
   "source": [
    "### Default logistic regression"
   ]
  },
  {
   "cell_type": "code",
   "execution_count": null,
   "id": "32400ad9",
   "metadata": {},
   "outputs": [],
   "source": [
    "lr.fit(X_train_count,X_train['target'])\n",
    "split_res = lr.predict(X_test_count)\n",
    "cm = confusion_matrix(X_test['target'], split_res, labels=lr.classes_)\n",
    "disp = ConfusionMatrixDisplay(confusion_matrix=cm,display_labels=lr.classes_)\n",
    "disp.plot()\n",
    "plt.show()"
   ]
  },
  {
   "cell_type": "code",
   "execution_count": null,
   "id": "359deb70",
   "metadata": {
    "execution": {
     "iopub.status.busy": "2022-12-16T17:53:37.626979Z",
     "iopub.status.idle": "2022-12-16T17:53:37.627679Z",
     "shell.execute_reply": "2022-12-16T17:53:37.627476Z",
     "shell.execute_reply.started": "2022-12-16T17:53:37.627446Z"
    },
    "papermill": {
     "duration": null,
     "end_time": null,
     "exception": null,
     "start_time": null,
     "status": "pending"
    },
    "tags": []
   },
   "outputs": [],
   "source": [
    "# rfc = RandomForestClassifier(max_depth=10,random_state=0,bootstrap=True,max_features=150000)"
   ]
  },
  {
   "cell_type": "code",
   "execution_count": null,
   "id": "521b9481",
   "metadata": {
    "execution": {
     "iopub.status.busy": "2022-12-16T17:53:37.629175Z",
     "iopub.status.idle": "2022-12-16T17:53:37.629600Z",
     "shell.execute_reply": "2022-12-16T17:53:37.629416Z",
     "shell.execute_reply.started": "2022-12-16T17:53:37.629398Z"
    },
    "papermill": {
     "duration": null,
     "end_time": null,
     "exception": null,
     "start_time": null,
     "status": "pending"
    },
    "tags": []
   },
   "outputs": [],
   "source": [
    "# rfc.fit(X_train_count,X_train['target'])\n",
    "# split_res = rfc.predict(X_test_count)\n",
    "# f1_score(X_test['target'],split_res)"
   ]
  },
  {
   "cell_type": "markdown",
   "id": "1300223b",
   "metadata": {
    "papermill": {
     "duration": null,
     "end_time": null,
     "exception": null,
     "start_time": null,
     "status": "pending"
    },
    "tags": []
   },
   "source": [
    "<font size=6>\n",
    "Obtaining predictions for given test data"
   ]
  },
  {
   "cell_type": "code",
   "execution_count": null,
   "id": "b4b1bfda",
   "metadata": {
    "execution": {
     "iopub.status.busy": "2022-12-16T17:53:37.635659Z",
     "iopub.status.idle": "2022-12-16T17:53:37.636585Z",
     "shell.execute_reply": "2022-12-16T17:53:37.636379Z",
     "shell.execute_reply.started": "2022-12-16T17:53:37.636357Z"
    },
    "papermill": {
     "duration": null,
     "end_time": null,
     "exception": null,
     "start_time": null,
     "status": "pending"
    },
    "tags": []
   },
   "outputs": [],
   "source": [
    "lr.fit(train,df1['target'])\n",
    "mnb.fit(train,df1['target'])"
   ]
  },
  {
   "cell_type": "code",
   "execution_count": null,
   "id": "fc0cd6d5",
   "metadata": {
    "execution": {
     "iopub.status.busy": "2022-12-16T17:53:37.638596Z",
     "iopub.status.idle": "2022-12-16T17:53:37.639097Z",
     "shell.execute_reply": "2022-12-16T17:53:37.638903Z",
     "shell.execute_reply.started": "2022-12-16T17:53:37.638882Z"
    },
    "papermill": {
     "duration": null,
     "end_time": null,
     "exception": null,
     "start_time": null,
     "status": "pending"
    },
    "tags": []
   },
   "outputs": [],
   "source": [
    "res = lr.predict(test)\n",
    "len(res)\n",
    "finaldf = pd.DataFrame(res,columns=['target'])\n",
    "finaldf"
   ]
  },
  {
   "cell_type": "code",
   "execution_count": null,
   "id": "dafd7424",
   "metadata": {
    "execution": {
     "iopub.status.busy": "2022-12-16T17:53:37.640587Z",
     "iopub.status.idle": "2022-12-16T17:53:37.641081Z",
     "shell.execute_reply": "2022-12-16T17:53:37.640833Z",
     "shell.execute_reply.started": "2022-12-16T17:53:37.640813Z"
    },
    "papermill": {
     "duration": null,
     "end_time": null,
     "exception": null,
     "start_time": null,
     "status": "pending"
    },
    "tags": []
   },
   "outputs": [],
   "source": [
    "finaldf = pd.DataFrame(list(zip(df2['qid'],finaldf['target'])),columns =['qid', 'target'])\n",
    "finaldf"
   ]
  },
  {
   "cell_type": "code",
   "execution_count": null,
   "id": "86f7e615",
   "metadata": {
    "execution": {
     "iopub.status.busy": "2022-12-16T17:53:37.643510Z",
     "iopub.status.idle": "2022-12-16T17:53:37.644571Z",
     "shell.execute_reply": "2022-12-16T17:53:37.644334Z",
     "shell.execute_reply.started": "2022-12-16T17:53:37.644309Z"
    },
    "papermill": {
     "duration": null,
     "end_time": null,
     "exception": null,
     "start_time": null,
     "status": "pending"
    },
    "tags": []
   },
   "outputs": [],
   "source": [
    "res2 = mnb.predict(test)\n",
    "# len(res)\n",
    "finaldf2 = pd.DataFrame(res2,columns=['target'])"
   ]
  },
  {
   "cell_type": "code",
   "execution_count": null,
   "id": "17a24e09",
   "metadata": {
    "execution": {
     "iopub.status.busy": "2022-12-16T17:53:37.646467Z",
     "iopub.status.idle": "2022-12-16T17:53:37.646977Z",
     "shell.execute_reply": "2022-12-16T17:53:37.646773Z",
     "shell.execute_reply.started": "2022-12-16T17:53:37.646751Z"
    },
    "papermill": {
     "duration": null,
     "end_time": null,
     "exception": null,
     "start_time": null,
     "status": "pending"
    },
    "tags": []
   },
   "outputs": [],
   "source": [
    "finaldf2 = pd.DataFrame(list(zip(df2['qid'],finaldf2['target'])),columns =['qid', 'target'])"
   ]
  },
  {
   "cell_type": "code",
   "execution_count": null,
   "id": "a441f346",
   "metadata": {
    "execution": {
     "iopub.status.busy": "2022-12-16T17:53:37.648960Z",
     "iopub.status.idle": "2022-12-16T17:53:37.649428Z",
     "shell.execute_reply": "2022-12-16T17:53:37.649242Z",
     "shell.execute_reply.started": "2022-12-16T17:53:37.649221Z"
    },
    "papermill": {
     "duration": null,
     "end_time": null,
     "exception": null,
     "start_time": null,
     "status": "pending"
    },
    "tags": []
   },
   "outputs": [],
   "source": [
    "finaldf.to_csv('fourthlr.csv',index=False)\n",
    "finaldf2.to_csv('fourth.csv',index=False)"
   ]
  },
  {
   "cell_type": "code",
   "execution_count": null,
   "id": "f375cdf4",
   "metadata": {
    "execution": {
     "iopub.status.busy": "2022-12-16T17:53:37.651423Z",
     "iopub.status.idle": "2022-12-16T17:53:37.651857Z",
     "shell.execute_reply": "2022-12-16T17:53:37.651680Z",
     "shell.execute_reply.started": "2022-12-16T17:53:37.651660Z"
    },
    "papermill": {
     "duration": null,
     "end_time": null,
     "exception": null,
     "start_time": null,
     "status": "pending"
    },
    "tags": []
   },
   "outputs": [],
   "source": [
    "# gnb.fit(X_train_count,X_train['target'])\n",
    "# split_res = gnb.predict(X_test_count)\n",
    "# f1_score(X_test['target'],split_res)\n",
    "# Needs dense data, given sparse matrix"
   ]
  },
  {
   "cell_type": "code",
   "execution_count": null,
   "id": "adafba6e",
   "metadata": {
    "execution": {
     "iopub.execute_input": "2022-12-16T17:53:38.246804Z",
     "iopub.status.busy": "2022-12-16T17:53:38.246404Z",
     "iopub.status.idle": "2022-12-16T17:53:38.252719Z",
     "shell.execute_reply": "2022-12-16T17:53:38.251467Z",
     "shell.execute_reply.started": "2022-12-16T17:53:38.246771Z"
    },
    "papermill": {
     "duration": null,
     "end_time": null,
     "exception": null,
     "start_time": null,
     "status": "pending"
    },
    "tags": []
   },
   "outputs": [],
   "source": [
    "# #Stacking\n",
    "# esti = [('gnb', gnb), ('mnb',mnb),('lr', lr)]\n",
    "# final_est = RandomForestClassifier()"
   ]
  },
  {
   "cell_type": "code",
   "execution_count": null,
   "id": "2316ae98",
   "metadata": {
    "papermill": {
     "duration": null,
     "end_time": null,
     "exception": null,
     "start_time": null,
     "status": "pending"
    },
    "tags": []
   },
   "outputs": [],
   "source": [
    "# from sklearn.ensemble import StackingClassifier\n",
    "# clf = StackingClassifier(estimators=estim, final_estimator=final_est)"
   ]
  },
  {
   "cell_type": "code",
   "execution_count": null,
   "id": "1970a121",
   "metadata": {
    "papermill": {
     "duration": null,
     "end_time": null,
     "exception": null,
     "start_time": null,
     "status": "pending"
    },
    "tags": []
   },
   "outputs": [],
   "source": [
    "# clf.fit(X_train,y_train)\n",
    "# y_pred = clf.predict(X_test)\n",
    "# print(\"Accuracy\",accuracy_score(y_test,y_pred))\n",
    "# print(\"Precision\",precision_score(y_test,y_pred))"
   ]
  },
  {
   "cell_type": "code",
   "execution_count": null,
   "id": "1de0678c",
   "metadata": {
    "papermill": {
     "duration": null,
     "end_time": null,
     "exception": null,
     "start_time": null,
     "status": "pending"
    },
    "tags": []
   },
   "outputs": [],
   "source": [
    "# #Bagging Bootstrapping\n",
    "# dtree = DecisionTreeClassifier(random_state = 22)\n",
    "# dtree.fit(X_train,y_train)\n",
    "\n",
    "# y_pred = dtree.predict(X_test)"
   ]
  }
 ],
 "metadata": {
  "kernelspec": {
   "display_name": "Python 3",
   "language": "python",
   "name": "python3"
  },
  "language_info": {
   "codemirror_mode": {
    "name": "ipython",
    "version": 3
   },
   "file_extension": ".py",
   "mimetype": "text/x-python",
   "name": "python",
   "nbconvert_exporter": "python",
   "pygments_lexer": "ipython3",
   "version": "3.10.6 (main, Nov 14 2022, 16:10:14) [GCC 11.3.0]"
  },
  "papermill": {
   "default_parameters": {},
   "duration": 581.389177,
   "end_time": "2022-12-17T06:22:01.116380",
   "environment_variables": {},
   "exception": true,
   "input_path": "__notebook__.ipynb",
   "output_path": "__notebook__.ipynb",
   "parameters": {},
   "start_time": "2022-12-17T06:12:19.727203",
   "version": "2.3.4"
  },
  "vscode": {
   "interpreter": {
    "hash": "916dbcbb3f70747c44a77c7bcd40155683ae19c65e1c03b4aa3499c5328201f1"
   }
  }
 },
 "nbformat": 4,
 "nbformat_minor": 5
}
